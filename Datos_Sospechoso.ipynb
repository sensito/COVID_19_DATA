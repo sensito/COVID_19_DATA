{
 "cells": [
  {
   "cell_type": "code",
   "execution_count": 1,
   "metadata": {},
   "outputs": [],
   "source": [
    "from tabula import read_pdf\n",
    "\n",
    "import pandas as pd\n",
    "\n",
    "import tabula\n",
    "\n",
    "import os\n",
    "from os import path\n",
    "\n",
    "import datetime as dt\n",
    "from datetime import datetime"
   ]
  },
  {
   "cell_type": "markdown",
   "metadata": {},
   "source": [
    "Limpiar la carpeta \"Datos\""
   ]
  },
  {
   "cell_type": "code",
   "execution_count": 2,
   "metadata": {},
   "outputs": [],
   "source": [
    "ggDirectorioDestino = './Datos'"
   ]
  },
  {
   "cell_type": "code",
   "execution_count": 3,
   "metadata": {},
   "outputs": [],
   "source": [
    "from shutil import rmtree\n",
    "if path.exists(ggDirectorioDestino):\n",
    "    rmtree(ggDirectorioDestino)"
   ]
  },
  {
   "cell_type": "code",
   "execution_count": 4,
   "metadata": {},
   "outputs": [],
   "source": [
    "try:\n",
    "    os.stat(ggDirectorioDestino)\n",
    "except:\n",
    "    os.mkdir(ggDirectorioDestino)"
   ]
  },
  {
   "cell_type": "markdown",
   "metadata": {},
   "source": [
    "Crear el .csv"
   ]
  },
  {
   "cell_type": "code",
   "execution_count": 5,
   "metadata": {},
   "outputs": [],
   "source": [
    "df = read_pdf(\"./PDF/Sospechosos/Tabla_casos_sospechosos_03_30_2020.pdf\", pages=\"all\")"
   ]
  },
  {
   "cell_type": "code",
   "execution_count": 6,
   "metadata": {},
   "outputs": [],
   "source": [
    "for key in range(0, len(df)):\n",
    "    dfs = pd.DataFrame(df[key])\n",
    "    dfs.to_csv('./Datos/Test_'+ str(key) +'.csv', index=False)"
   ]
  },
  {
   "cell_type": "code",
   "execution_count": 7,
   "metadata": {},
   "outputs": [],
   "source": [
    "test = pd.read_csv('./Datos/Test_0.csv', sep=',')\n",
    "test = test.rename(columns={\"Unnamed: 0\": 'N_Caso',\"Unnamed: 1\":\"Estado\",\"Unnamed: 2\":\"Sexo\",\"Unnamed: 3\":\"Edad\",\"Unnamed: 4\":\"Fecha de Inicio de sintomas\",\"Identificación\":\"Identificación de COVID-19 por RT-PCR en tiempo real\",\"Unnamed: 5\":\"Procedencia\",\"Unnamed: 6\":\"Fecha del llegada a Mexico\"})"
   ]
  },
  {
   "cell_type": "code",
   "execution_count": 8,
   "metadata": {},
   "outputs": [],
   "source": [
    "for key in range(1, len(df)):\n",
    "    test1 = pd.read_csv('./Datos/Test_'+ str(key) +'.csv', sep=',', header=None)\n",
    "    test1 = test1.rename(columns={0: 'N_Caso',1:\"Estado\",2:\"Sexo\",3:\"Edad\",4:\"Fecha de Inicio de sintomas\",5:\"Identificación de COVID-19 por RT-PCR en tiempo real\",6:\"Procedencia\",7:\"Fecha del llegada a Mexico\"})\n",
    "    test = test.append(test1)"
   ]
  },
  {
   "cell_type": "code",
   "execution_count": 9,
   "metadata": {},
   "outputs": [],
   "source": [
    "test = test[8:]"
   ]
  },
  {
   "cell_type": "code",
   "execution_count": 10,
   "metadata": {},
   "outputs": [],
   "source": [
    "test.reset_index(drop=True, inplace=True)"
   ]
  },
  {
   "cell_type": "code",
   "execution_count": 11,
   "metadata": {},
   "outputs": [
    {
     "data": {
      "text/html": [
       "<div>\n",
       "<style scoped>\n",
       "    .dataframe tbody tr th:only-of-type {\n",
       "        vertical-align: middle;\n",
       "    }\n",
       "\n",
       "    .dataframe tbody tr th {\n",
       "        vertical-align: top;\n",
       "    }\n",
       "\n",
       "    .dataframe thead th {\n",
       "        text-align: right;\n",
       "    }\n",
       "</style>\n",
       "<table border=\"1\" class=\"dataframe\">\n",
       "  <thead>\n",
       "    <tr style=\"text-align: right;\">\n",
       "      <th></th>\n",
       "      <th>N_Caso</th>\n",
       "      <th>Estado</th>\n",
       "      <th>Sexo</th>\n",
       "      <th>Edad</th>\n",
       "      <th>Fecha de Inicio de sintomas</th>\n",
       "      <th>Identificación de COVID-19 por RT-PCR en tiempo real</th>\n",
       "      <th>Procedencia</th>\n",
       "      <th>Fecha del llegada a Mexico</th>\n",
       "    </tr>\n",
       "  </thead>\n",
       "  <tbody>\n",
       "    <tr>\n",
       "      <th>0</th>\n",
       "      <td>1</td>\n",
       "      <td>PUEBLA</td>\n",
       "      <td>M</td>\n",
       "      <td>49</td>\n",
       "      <td>15/03/2020</td>\n",
       "      <td>Sospechoso</td>\n",
       "      <td>Contacto</td>\n",
       "      <td>NaN</td>\n",
       "    </tr>\n",
       "    <tr>\n",
       "      <th>1</th>\n",
       "      <td>2</td>\n",
       "      <td>BAJA CALIFORNIA</td>\n",
       "      <td>F</td>\n",
       "      <td>34</td>\n",
       "      <td>14/03/2020</td>\n",
       "      <td>Sospechoso</td>\n",
       "      <td>Estados Unidos</td>\n",
       "      <td>08/03/2020</td>\n",
       "    </tr>\n",
       "    <tr>\n",
       "      <th>2</th>\n",
       "      <td>3</td>\n",
       "      <td>CIUDAD DE MÉXICO</td>\n",
       "      <td>F</td>\n",
       "      <td>69</td>\n",
       "      <td>25/02/2020</td>\n",
       "      <td>Sospechoso</td>\n",
       "      <td>Italia</td>\n",
       "      <td>03/03/2020</td>\n",
       "    </tr>\n",
       "    <tr>\n",
       "      <th>3</th>\n",
       "      <td>4</td>\n",
       "      <td>JALISCO</td>\n",
       "      <td>M</td>\n",
       "      <td>19</td>\n",
       "      <td>18/03/2020</td>\n",
       "      <td>Sospechoso</td>\n",
       "      <td>España</td>\n",
       "      <td>17/03/2020</td>\n",
       "    </tr>\n",
       "    <tr>\n",
       "      <th>4</th>\n",
       "      <td>5</td>\n",
       "      <td>AGUASCALIENTES</td>\n",
       "      <td>M</td>\n",
       "      <td>36</td>\n",
       "      <td>12/03/2020</td>\n",
       "      <td>Sospechoso</td>\n",
       "      <td>Estados Unidos</td>\n",
       "      <td>13/03/2020</td>\n",
       "    </tr>\n",
       "    <tr>\n",
       "      <th>...</th>\n",
       "      <td>...</td>\n",
       "      <td>...</td>\n",
       "      <td>...</td>\n",
       "      <td>...</td>\n",
       "      <td>...</td>\n",
       "      <td>...</td>\n",
       "      <td>...</td>\n",
       "      <td>...</td>\n",
       "    </tr>\n",
       "    <tr>\n",
       "      <th>2698</th>\n",
       "      <td>2748</td>\n",
       "      <td>CIUDAD DE MÉXICO</td>\n",
       "      <td>F</td>\n",
       "      <td>33</td>\n",
       "      <td>24/03/2020</td>\n",
       "      <td>Sospechoso</td>\n",
       "      <td>Contacto</td>\n",
       "      <td>NaN</td>\n",
       "    </tr>\n",
       "    <tr>\n",
       "      <th>2699</th>\n",
       "      <td>2749</td>\n",
       "      <td>MÉXICO</td>\n",
       "      <td>M</td>\n",
       "      <td>22</td>\n",
       "      <td>23/03/2020</td>\n",
       "      <td>Sospechoso</td>\n",
       "      <td>Contacto</td>\n",
       "      <td>NaN</td>\n",
       "    </tr>\n",
       "    <tr>\n",
       "      <th>2700</th>\n",
       "      <td>2750</td>\n",
       "      <td>CIUDAD DE MÉXICO</td>\n",
       "      <td>F</td>\n",
       "      <td>33</td>\n",
       "      <td>14/03/2020</td>\n",
       "      <td>Sospechoso</td>\n",
       "      <td>Contacto</td>\n",
       "      <td>14/03/2020</td>\n",
       "    </tr>\n",
       "    <tr>\n",
       "      <th>2701</th>\n",
       "      <td>2751</td>\n",
       "      <td>CIUDAD DE MÉXICO</td>\n",
       "      <td>M</td>\n",
       "      <td>37</td>\n",
       "      <td>14/03/2020</td>\n",
       "      <td>Sospechoso</td>\n",
       "      <td>Contacto</td>\n",
       "      <td>NaN</td>\n",
       "    </tr>\n",
       "    <tr>\n",
       "      <th>2702</th>\n",
       "      <td>2752</td>\n",
       "      <td>CIUDAD DE MÉXICO</td>\n",
       "      <td>M</td>\n",
       "      <td>40</td>\n",
       "      <td>09/03/2020</td>\n",
       "      <td>Sospechoso</td>\n",
       "      <td>Italia</td>\n",
       "      <td>08/03/2020</td>\n",
       "    </tr>\n",
       "  </tbody>\n",
       "</table>\n",
       "<p>2703 rows × 8 columns</p>\n",
       "</div>"
      ],
      "text/plain": [
       "     N_Caso            Estado Sexo Edad Fecha de Inicio de sintomas  \\\n",
       "0         1            PUEBLA    M   49                  15/03/2020   \n",
       "1         2   BAJA CALIFORNIA    F   34                  14/03/2020   \n",
       "2         3  CIUDAD DE MÉXICO    F   69                  25/02/2020   \n",
       "3         4           JALISCO    M   19                  18/03/2020   \n",
       "4         5    AGUASCALIENTES    M   36                  12/03/2020   \n",
       "...     ...               ...  ...  ...                         ...   \n",
       "2698   2748  CIUDAD DE MÉXICO    F   33                  24/03/2020   \n",
       "2699   2749            MÉXICO    M   22                  23/03/2020   \n",
       "2700   2750  CIUDAD DE MÉXICO    F   33                  14/03/2020   \n",
       "2701   2751  CIUDAD DE MÉXICO    M   37                  14/03/2020   \n",
       "2702   2752  CIUDAD DE MÉXICO    M   40                  09/03/2020   \n",
       "\n",
       "     Identificación de COVID-19 por RT-PCR en tiempo real     Procedencia  \\\n",
       "0                                            Sospechoso          Contacto   \n",
       "1                                            Sospechoso    Estados Unidos   \n",
       "2                                            Sospechoso            Italia   \n",
       "3                                            Sospechoso            España   \n",
       "4                                            Sospechoso    Estados Unidos   \n",
       "...                                                 ...               ...   \n",
       "2698                                         Sospechoso          Contacto   \n",
       "2699                                         Sospechoso          Contacto   \n",
       "2700                                         Sospechoso          Contacto   \n",
       "2701                                         Sospechoso          Contacto   \n",
       "2702                                         Sospechoso            Italia   \n",
       "\n",
       "     Fecha del llegada a Mexico  \n",
       "0                           NaN  \n",
       "1                    08/03/2020  \n",
       "2                    03/03/2020  \n",
       "3                    17/03/2020  \n",
       "4                    13/03/2020  \n",
       "...                         ...  \n",
       "2698                        NaN  \n",
       "2699                        NaN  \n",
       "2700                 14/03/2020  \n",
       "2701                        NaN  \n",
       "2702                 08/03/2020  \n",
       "\n",
       "[2703 rows x 8 columns]"
      ]
     },
     "execution_count": 11,
     "metadata": {},
     "output_type": "execute_result"
    }
   ],
   "source": [
    "test"
   ]
  },
  {
   "cell_type": "code",
   "execution_count": 12,
   "metadata": {},
   "outputs": [],
   "source": [
    "date_time = datetime.now()\n",
    "date_time = date_time.strftime(\"%m_%d_%Y\")"
   ]
  },
  {
   "cell_type": "code",
   "execution_count": 13,
   "metadata": {},
   "outputs": [],
   "source": [
    "test.to_csv('./COVID19_Mx_opendata/Sospechoso/Datos_Covid_' + date_time + '.csv', index=False)"
   ]
  }
 ],
 "metadata": {
  "kernelspec": {
   "display_name": "Python 3",
   "language": "python",
   "name": "python3"
  },
  "language_info": {
   "codemirror_mode": {
    "name": "ipython",
    "version": 3
   },
   "file_extension": ".py",
   "mimetype": "text/x-python",
   "name": "python",
   "nbconvert_exporter": "python",
   "pygments_lexer": "ipython3",
   "version": "3.7.4"
  }
 },
 "nbformat": 4,
 "nbformat_minor": 2
}
