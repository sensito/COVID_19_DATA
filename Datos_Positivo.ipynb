{
 "cells": [
  {
   "cell_type": "code",
   "execution_count": 1,
   "metadata": {},
   "outputs": [],
   "source": [
    "from tabula import read_pdf\n",
    "\n",
    "import pandas as pd\n",
    "\n",
    "import tabula\n",
    "\n",
    "import os\n",
    "from os import path\n",
    "\n",
    "import datetime as dt\n",
    "from datetime import datetime"
   ]
  },
  {
   "cell_type": "markdown",
   "metadata": {},
   "source": [
    "Limpiar la carpeta \"Datos\""
   ]
  },
  {
   "cell_type": "code",
   "execution_count": 2,
   "metadata": {},
   "outputs": [],
   "source": [
    "ggDirectorioDestino = './Datos'"
   ]
  },
  {
   "cell_type": "code",
   "execution_count": 3,
   "metadata": {},
   "outputs": [],
   "source": [
    "from shutil import rmtree\n",
    "if path.exists(ggDirectorioDestino):\n",
    "    rmtree(ggDirectorioDestino)"
   ]
  },
  {
   "cell_type": "code",
   "execution_count": 4,
   "metadata": {},
   "outputs": [],
   "source": [
    "try:\n",
    "    os.stat(ggDirectorioDestino)\n",
    "except:\n",
    "    os.mkdir(ggDirectorioDestino)"
   ]
  },
  {
   "cell_type": "markdown",
   "metadata": {},
   "source": [
    "Crear el .csv"
   ]
  },
  {
   "cell_type": "code",
   "execution_count": 5,
   "metadata": {},
   "outputs": [],
   "source": [
    "df = read_pdf(\"./PDF/Positivos/Tabla_casos_positivos_COVID-19_03_30_2020.pdf\", pages=\"all\")"
   ]
  },
  {
   "cell_type": "code",
   "execution_count": 6,
   "metadata": {},
   "outputs": [],
   "source": [
    "for key in range(0, len(df)):\n",
    "    dfs = pd.DataFrame(df[key])\n",
    "    dfs.to_csv('./Datos/Test_'+ str(key) +'.csv', index=False)"
   ]
  },
  {
   "cell_type": "code",
   "execution_count": 7,
   "metadata": {},
   "outputs": [],
   "source": [
    "test = pd.read_csv('./Datos/Test_0.csv', sep=',')\n",
    "test = test.rename(columns={\"Unnamed: 0\": 'N_Caso',\"Unnamed: 1\":\"Estado\",\"Unnamed: 2\":\"Sexo\",\"Unnamed: 3\":\"Edad\",\"Unnamed: 4\":\"Fecha de Inicio de sintomas\",\"Identificación\":\"Identificación de COVID-19 por RT-PCR en tiempo real\",\"Unnamed: 5\":\"Procedencia\",\"Unnamed: 6\":\"Fecha del llegada a Mexico\"})"
   ]
  },
  {
   "cell_type": "code",
   "execution_count": 8,
   "metadata": {},
   "outputs": [],
   "source": [
    "for key in range(1, len(df)-1):\n",
    "    test1 = pd.read_csv('./Datos/Test_'+ str(key) +'.csv', sep=',', header=None)\n",
    "    test1 = test1.rename(columns={0: 'N_Caso',1:\"Estado\",2:\"Sexo\",3:\"Edad\",4:\"Fecha de Inicio de sintomas\",5:\"Identificación de COVID-19 por RT-PCR en tiempo real\",6:\"Procedencia\",7:\"Fecha del llegada a Mexico\"})\n",
    "    test = test.append(test1)"
   ]
  },
  {
   "cell_type": "code",
   "execution_count": 9,
   "metadata": {},
   "outputs": [],
   "source": [
    "test1 = pd.read_csv('./Datos/Test_'+ str(20) +'.csv', sep=',', header=None)\n",
    "test1 = test1.rename(columns={0: 'N_Caso',1:\"Estado\",2:\"Sexo\",3:\"Edad\",4:\"Fecha de Inicio de sintomas\",5:\"Identificación de COVID-19 por RT-PCR en tiempo real\",7:\"Procedencia\",8:\"Fecha del llegada a Mexico\"})\n",
    "test = test.append(test1)"
   ]
  },
  {
   "cell_type": "code",
   "execution_count": 10,
   "metadata": {},
   "outputs": [],
   "source": [
    "test = test[6:]"
   ]
  },
  {
   "cell_type": "code",
   "execution_count": 11,
   "metadata": {},
   "outputs": [],
   "source": [
    "test.reset_index(drop=True, inplace=True)"
   ]
  },
  {
   "cell_type": "code",
   "execution_count": 12,
   "metadata": {},
   "outputs": [],
   "source": [
    "del test[6]"
   ]
  },
  {
   "cell_type": "code",
   "execution_count": 13,
   "metadata": {},
   "outputs": [],
   "source": [
    "del test[9]"
   ]
  },
  {
   "cell_type": "code",
   "execution_count": 14,
   "metadata": {},
   "outputs": [],
   "source": [
    "test.drop(test[test.N_Caso.isnull()].index, inplace = True)"
   ]
  },
  {
   "cell_type": "code",
   "execution_count": 15,
   "metadata": {},
   "outputs": [
    {
     "data": {
      "text/html": [
       "<div>\n",
       "<style scoped>\n",
       "    .dataframe tbody tr th:only-of-type {\n",
       "        vertical-align: middle;\n",
       "    }\n",
       "\n",
       "    .dataframe tbody tr th {\n",
       "        vertical-align: top;\n",
       "    }\n",
       "\n",
       "    .dataframe thead th {\n",
       "        text-align: right;\n",
       "    }\n",
       "</style>\n",
       "<table border=\"1\" class=\"dataframe\">\n",
       "  <thead>\n",
       "    <tr style=\"text-align: right;\">\n",
       "      <th></th>\n",
       "      <th>N_Caso</th>\n",
       "      <th>Estado</th>\n",
       "      <th>Sexo</th>\n",
       "      <th>Edad</th>\n",
       "      <th>Fecha de Inicio de sintomas</th>\n",
       "      <th>Identificación de COVID-19 por RT-PCR en tiempo real</th>\n",
       "      <th>Procedencia</th>\n",
       "      <th>Fecha del llegada a Mexico</th>\n",
       "    </tr>\n",
       "  </thead>\n",
       "  <tbody>\n",
       "    <tr>\n",
       "      <th>0</th>\n",
       "      <td>1</td>\n",
       "      <td>CIUDAD DE MÉXICO</td>\n",
       "      <td>M</td>\n",
       "      <td>35</td>\n",
       "      <td>22/02/2020</td>\n",
       "      <td>confirmado</td>\n",
       "      <td>Italia</td>\n",
       "      <td>22/02/2020</td>\n",
       "    </tr>\n",
       "    <tr>\n",
       "      <th>1</th>\n",
       "      <td>2</td>\n",
       "      <td>SINALOA</td>\n",
       "      <td>M</td>\n",
       "      <td>41</td>\n",
       "      <td>22/02/2020</td>\n",
       "      <td>confirmado</td>\n",
       "      <td>Italia</td>\n",
       "      <td>21/02/2020</td>\n",
       "    </tr>\n",
       "    <tr>\n",
       "      <th>2</th>\n",
       "      <td>3</td>\n",
       "      <td>CIUDAD DE MÉXICO</td>\n",
       "      <td>M</td>\n",
       "      <td>59</td>\n",
       "      <td>23/02/2020</td>\n",
       "      <td>confirmado</td>\n",
       "      <td>Italia</td>\n",
       "      <td>22/02/2020</td>\n",
       "    </tr>\n",
       "    <tr>\n",
       "      <th>3</th>\n",
       "      <td>4</td>\n",
       "      <td>COAHUILA</td>\n",
       "      <td>F</td>\n",
       "      <td>20</td>\n",
       "      <td>27/02/2020</td>\n",
       "      <td>confirmado</td>\n",
       "      <td>Italia</td>\n",
       "      <td>25/02/2020</td>\n",
       "    </tr>\n",
       "    <tr>\n",
       "      <th>4</th>\n",
       "      <td>5</td>\n",
       "      <td>CHIAPAS</td>\n",
       "      <td>F</td>\n",
       "      <td>18</td>\n",
       "      <td>25/02/2020</td>\n",
       "      <td>confirmado</td>\n",
       "      <td>Italia</td>\n",
       "      <td>25/02/2020</td>\n",
       "    </tr>\n",
       "    <tr>\n",
       "      <th>...</th>\n",
       "      <td>...</td>\n",
       "      <td>...</td>\n",
       "      <td>...</td>\n",
       "      <td>...</td>\n",
       "      <td>...</td>\n",
       "      <td>...</td>\n",
       "      <td>...</td>\n",
       "      <td>...</td>\n",
       "    </tr>\n",
       "    <tr>\n",
       "      <th>1167</th>\n",
       "      <td>1090</td>\n",
       "      <td>COAHUILA</td>\n",
       "      <td>M</td>\n",
       "      <td>48</td>\n",
       "      <td>29/03/2020</td>\n",
       "      <td>confirmado</td>\n",
       "      <td>Contacto</td>\n",
       "      <td>NaN</td>\n",
       "    </tr>\n",
       "    <tr>\n",
       "      <th>1169</th>\n",
       "      <td>1091</td>\n",
       "      <td>CIUDAD DE MÉXICO</td>\n",
       "      <td>F</td>\n",
       "      <td>77</td>\n",
       "      <td>13/03/2020</td>\n",
       "      <td>confirmado</td>\n",
       "      <td>España</td>\n",
       "      <td>08/03/2020</td>\n",
       "    </tr>\n",
       "    <tr>\n",
       "      <th>1171</th>\n",
       "      <td>1092</td>\n",
       "      <td>CIUDAD DE MÉXICO</td>\n",
       "      <td>F</td>\n",
       "      <td>43</td>\n",
       "      <td>16/03/2020</td>\n",
       "      <td>confirmado</td>\n",
       "      <td>España</td>\n",
       "      <td>16/03/2020</td>\n",
       "    </tr>\n",
       "    <tr>\n",
       "      <th>1173</th>\n",
       "      <td>1093</td>\n",
       "      <td>CIUDAD DE MÉXICO</td>\n",
       "      <td>M</td>\n",
       "      <td>47</td>\n",
       "      <td>14/03/2020</td>\n",
       "      <td>confirmado</td>\n",
       "      <td>Contacto</td>\n",
       "      <td>NaN</td>\n",
       "    </tr>\n",
       "    <tr>\n",
       "      <th>1176</th>\n",
       "      <td>1094</td>\n",
       "      <td>JALISCO</td>\n",
       "      <td>M</td>\n",
       "      <td>37</td>\n",
       "      <td>20/03/2020</td>\n",
       "      <td>confirmado</td>\n",
       "      <td>Contacto</td>\n",
       "      <td>NaN</td>\n",
       "    </tr>\n",
       "  </tbody>\n",
       "</table>\n",
       "<p>1060 rows × 8 columns</p>\n",
       "</div>"
      ],
      "text/plain": [
       "     N_Caso            Estado Sexo Edad Fecha de Inicio de sintomas  \\\n",
       "0         1  CIUDAD DE MÉXICO    M   35                  22/02/2020   \n",
       "1         2           SINALOA    M   41                  22/02/2020   \n",
       "2         3  CIUDAD DE MÉXICO    M   59                  23/02/2020   \n",
       "3         4          COAHUILA    F   20                  27/02/2020   \n",
       "4         5           CHIAPAS    F   18                  25/02/2020   \n",
       "...     ...               ...  ...  ...                         ...   \n",
       "1167   1090          COAHUILA    M   48                  29/03/2020   \n",
       "1169   1091  CIUDAD DE MÉXICO    F   77                  13/03/2020   \n",
       "1171   1092  CIUDAD DE MÉXICO    F   43                  16/03/2020   \n",
       "1173   1093  CIUDAD DE MÉXICO    M   47                  14/03/2020   \n",
       "1176   1094           JALISCO    M   37                  20/03/2020   \n",
       "\n",
       "     Identificación de COVID-19 por RT-PCR en tiempo real Procedencia  \\\n",
       "0                                            confirmado        Italia   \n",
       "1                                            confirmado        Italia   \n",
       "2                                            confirmado        Italia   \n",
       "3                                            confirmado        Italia   \n",
       "4                                            confirmado        Italia   \n",
       "...                                                 ...           ...   \n",
       "1167                                         confirmado      Contacto   \n",
       "1169                                         confirmado        España   \n",
       "1171                                         confirmado        España   \n",
       "1173                                         confirmado      Contacto   \n",
       "1176                                         confirmado      Contacto   \n",
       "\n",
       "     Fecha del llegada a Mexico  \n",
       "0                    22/02/2020  \n",
       "1                    21/02/2020  \n",
       "2                    22/02/2020  \n",
       "3                    25/02/2020  \n",
       "4                    25/02/2020  \n",
       "...                         ...  \n",
       "1167                        NaN  \n",
       "1169                 08/03/2020  \n",
       "1171                 16/03/2020  \n",
       "1173                        NaN  \n",
       "1176                        NaN  \n",
       "\n",
       "[1060 rows x 8 columns]"
      ]
     },
     "execution_count": 15,
     "metadata": {},
     "output_type": "execute_result"
    }
   ],
   "source": [
    "test"
   ]
  },
  {
   "cell_type": "code",
   "execution_count": 16,
   "metadata": {},
   "outputs": [],
   "source": [
    "date_time = datetime.now()\n",
    "date_time = date_time.strftime(\"%m_%d_%Y\")"
   ]
  },
  {
   "cell_type": "code",
   "execution_count": 17,
   "metadata": {},
   "outputs": [],
   "source": [
    "test.to_csv('./COVID19_Mx_opendata/Positivo/Datos_Covid_' + date_time + '.csv', index=False)"
   ]
  }
 ],
 "metadata": {
  "kernelspec": {
   "display_name": "Python 3",
   "language": "python",
   "name": "python3"
  },
  "language_info": {
   "codemirror_mode": {
    "name": "ipython",
    "version": 3
   },
   "file_extension": ".py",
   "mimetype": "text/x-python",
   "name": "python",
   "nbconvert_exporter": "python",
   "pygments_lexer": "ipython3",
   "version": "3.7.4"
  }
 },
 "nbformat": 4,
 "nbformat_minor": 2
}
